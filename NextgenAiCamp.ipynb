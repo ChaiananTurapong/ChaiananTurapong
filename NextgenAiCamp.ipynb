{
  "nbformat": 4,
  "nbformat_minor": 0,
  "metadata": {
    "colab": {
      "provenance": [],
      "authorship_tag": "ABX9TyOnLZbRaF+mI3dsmC9KJ4L6",
      "include_colab_link": true
    },
    "kernelspec": {
      "name": "python3",
      "display_name": "Python 3"
    },
    "language_info": {
      "name": "python"
    }
  },
  "cells": [
    {
      "cell_type": "markdown",
      "metadata": {
        "id": "view-in-github",
        "colab_type": "text"
      },
      "source": [
        "<a href=\"https://colab.research.google.com/github/ChaiananTurapong/ChaiananTurapong/blob/main/NextgenAiCamp.ipynb\" target=\"_parent\"><img src=\"https://colab.research.google.com/assets/colab-badge.svg\" alt=\"Open In Colab\"/></a>"
      ]
    },
    {
      "cell_type": "markdown",
      "source": [
        "**EXERCISE**"
      ],
      "metadata": {
        "id": "TQsEi1D7zZ1b"
      }
    },
    {
      "cell_type": "markdown",
      "source": [
        "1.จงเขียนโปรแกรม เพื่อคํานวณหาพื้นที่ของสามเหลี่ยม Area = ½ x ฐาน x สูง โดยมีข้อมูลเข้า (Input) จากคีย์บอร์ด คือ ค่าของฐานของสามเหลี่ยม (b: Base) และค่าความสูงของสามเหลี่ยม (h: Height)"
      ],
      "metadata": {
        "id": "HZBnVE_wzjtw"
      }
    },
    {
      "cell_type": "code",
      "execution_count": null,
      "metadata": {
        "colab": {
          "base_uri": "https://localhost:8080/"
        },
        "id": "7CszBJVbzU5U",
        "outputId": "5dd38791-be75-4939-dcd6-885c703988b4"
      },
      "outputs": [
        {
          "output_type": "stream",
          "name": "stdout",
          "text": [
            "ฐาน :5\n",
            "ความสูง :10\n",
            "25.0\n"
          ]
        }
      ],
      "source": [
        "b = input(\"ฐาน :\")\n",
        "h = input(\"ความสูง :\")\n",
        "Area = 1/2 * int(b) * int(h)\n",
        "print(Area)"
      ]
    },
    {
      "cell_type": "markdown",
      "source": [
        "2.จงเขียนโปรแกรม เพื่อคํานวณหาปริมาตรของรูปทรงกระบอก Volume = Area x H โดยมีข้อมูลเข้า (Input) จากคีย์บอร์ด คือ ค่าของรัศมีของวงกลม (r: Radius) ที่เป็นฐานของรูปทรงกระบอก และค่าความสูงของรูปทรงกระบอก (h: Height) ตามลําดับ วิธีการคํานวณ ปริมาตร =(π =3.14) * r * r * h\n"
      ],
      "metadata": {
        "id": "DEQLothI0xM6"
      }
    },
    {
      "cell_type": "code",
      "source": [
        "r = float(input(\"Radius :\"))\n",
        "h = float(input(\"Height :\"))\n",
        "ค่าพาย = 3.14\n",
        "Volume = ค่าพาย * r * r * h\n",
        "print(Volume)"
      ],
      "metadata": {
        "colab": {
          "base_uri": "https://localhost:8080/"
        },
        "id": "zlrpnyMj04HG",
        "outputId": "c3027173-6b8f-4b6a-b890-e5b89facca46"
      },
      "execution_count": null,
      "outputs": [
        {
          "output_type": "stream",
          "name": "stdout",
          "text": [
            "Radius :5\n",
            "Height :10\n",
            "785.0\n"
          ]
        }
      ]
    },
    {
      "cell_type": "markdown",
      "source": [
        "3.จงเขียนโปรแกรม เพื่อรับค่าของเวลาปัจจุบัน 3 ค่า คือ ชั่วโมง (Hour), นาที (Min), และวินาที (Sec) เป็น ข้อมูลเข้า (Input) จากคีย์บอร์ด และพิมพ ค่าของเวลานั้น ในรูปแบบ hh:mm:ss"
      ],
      "metadata": {
        "id": "pPWki6sa1zsQ"
      }
    },
    {
      "cell_type": "code",
      "source": [
        "H = input(\"Current Hour :\")\n",
        "M = input(\"Current Min :\")\n",
        "S = input(\"Current Sec :\")\n",
        "print(f'{H}:{M}:{S}')"
      ],
      "metadata": {
        "colab": {
          "base_uri": "https://localhost:8080/"
        },
        "id": "NXDgDJch1_KI",
        "outputId": "74e23d49-9810-45b9-a18f-aa52eac32547"
      },
      "execution_count": null,
      "outputs": [
        {
          "output_type": "stream",
          "name": "stdout",
          "text": [
            "Current Hour :21\n",
            "Current Min :30\n",
            "Current Sec :45\n",
            "21:30:45\n"
          ]
        }
      ]
    },
    {
      "cell_type": "markdown",
      "source": [
        "4.จงเขียนโปรแกรม เพื่อคํานวณคะแนนรวมของผลสอบวิชา Programming จากคะแนน Mid-term, คะแนน Final, และคะแนน Homework เป็นข้อมูลเข้า (Input) จากคีย์บอร์ด และแสดงผลลัพธ์จากการ คํานวณ เมื่อ คะแนนรวม (Total) = Mid-term (40%) + Final (50%) + HW (10%)"
      ],
      "metadata": {
        "id": "V1eRbvjn3X6U"
      }
    },
    {
      "cell_type": "code",
      "source": [
        "Mid = float(input(\"ใส่คะแนน Mid-term :\"))\n",
        "Final = float(input(\"ใส่คะแนน Final :\"))\n",
        "Hw = float(input(\"ใส่คะแนน Homework :\"))\n",
        "total = (Mid * 0.40) + (Final * 0.50) + (Hw * 0.10)\n",
        "print(f\"คะแนนรวมของวิชา Programming = {total:.2f}\")"
      ],
      "metadata": {
        "colab": {
          "base_uri": "https://localhost:8080/"
        },
        "id": "gdUeFz5D3eSK",
        "outputId": "82d9d53f-2666-43f6-a360-4feac518cd89"
      },
      "execution_count": null,
      "outputs": [
        {
          "output_type": "stream",
          "name": "stdout",
          "text": [
            "ใส่คะแนน Mid-term :35\n",
            "ใส่คะแนน Final :37\n",
            "ใส่คะแนน Homework :9\n",
            "คะแนนรวมของวิชา Programming = 33.40\n"
          ]
        }
      ]
    },
    {
      "cell_type": "markdown",
      "source": [
        "5.จงเขียนโปรแกรม เพื่อคํานวณค่าเฉลี่ย (Mean) ของข้อมูล (Input) 4 ค่าที่รับจากคีย์บอร์ด คั่นด้วยช่องว่าง เพื่อเก็บในตัว แปร (x1, x2, x3, x4) และแสดงผลลัพธ์ จากการคํานวณ เมื่อ Mean = (x1+x2+x3+x4) / 4"
      ],
      "metadata": {
        "id": "D2EaQQr63gQh"
      }
    },
    {
      "cell_type": "code",
      "source": [
        "data = input(\"กรุณาใส่ค่า 4 ค่า โดยเว้นช่องว่าง: \")\n",
        "x1, x2, x3, x4 = map(float, data.split())\n",
        "mean = (x1 + x2 + x3 + x4) / 4\n",
        "print(f\"ค่าเฉลี่ย = {mean:.2f}\")"
      ],
      "metadata": {
        "colab": {
          "base_uri": "https://localhost:8080/"
        },
        "id": "y2OLFkdS3jRc",
        "outputId": "c1aae690-f9f4-4b91-c657-c8b5ad9276e6"
      },
      "execution_count": null,
      "outputs": [
        {
          "output_type": "stream",
          "name": "stdout",
          "text": [
            "กรุณาใส่ค่า 4 ค่า โดยเว้นช่องว่าง: 3 4 5 6\n",
            "ค่าเฉลี่ยของข้อมูล = 4.50\n"
          ]
        }
      ]
    },
    {
      "cell_type": "markdown",
      "source": [
        "6.ให้เขียนโปรแกรมรับข้อมูลจาก Keyboard 2 ค่า คือ รหัสนักศึกษา และ ชื่อ จากนั้นแสดงผลในรูปแบบ \"Student ID : [xx] Name : [nn] \" ขึ้นบรรทัดใหม่ Year Entry : [แสดงปีที่รับเข้า] Last 4 Didit : [ ] Department : Computer Engineering"
      ],
      "metadata": {
        "id": "bCw638mw3ltu"
      }
    },
    {
      "cell_type": "code",
      "source": [
        "studentID = input(\"ใส่รหัสนักศึกษา: \")\n",
        "name = input(\"ใส่ชื่อ: \")\n",
        "YearEntry = studentID[:4]\n",
        "Last4Digits = studentID[-4:]\n",
        "print(f\"Student ID : {studentID} Name : {name}\")\n",
        "print(f\"Year Entry : {YearEntry}\")\n",
        "print(f\"Last 4 Digit : {Last4Digits}\")\n",
        "print(\"Department : Computer Engineering\")"
      ],
      "metadata": {
        "colab": {
          "base_uri": "https://localhost:8080/"
        },
        "id": "1zeEpWX33nEP",
        "outputId": "47eaee41-b7f6-4324-d26b-48f78bf19ec2"
      },
      "execution_count": null,
      "outputs": [
        {
          "output_type": "stream",
          "name": "stdout",
          "text": [
            "ใส่รหัสนักศึกษา: 30694\n",
            "ใส่ชื่อ: ชัยอนันต์\n",
            "Student ID : 30694 Name : ชัยอนันต์\n",
            "Year Entry : 3069\n",
            "Last 4 Digit : 0694\n",
            "Department : Computer Engineering\n"
          ]
        }
      ]
    },
    {
      "cell_type": "markdown",
      "source": [
        "7.การหาคำตอบของสมการ ax^2 + bx +c = 0 สามารถหาได้โดยใช้สูตร\n",
        "\n",
        "จงเขียนโปรแกรม รับค่า a, b, c และคำนวณค่า x\n",
        "\n",
        "hint : การทำ square root ใช้ ยกกำลัง 0.5 โปรแกรมนี้มี x จำนวน 2 ค่า ให้พิมพ์คำตอบคั่นด้วย ,"
      ],
      "metadata": {
        "id": "cujFc7NZ3nqk"
      }
    },
    {
      "cell_type": "code",
      "source": [
        "a = float(input(\"ใส่ค่า a: \"))\n",
        "b = float(input(\"ใส่ค่า b: \"))\n",
        "c = float(input(\"ใส่ค่า c: \"))\n",
        "\n",
        "d = b**2 - 4*a*c\n",
        "\n",
        "if d > 0:\n",
        "    x1 = (-b + d**0.5) / (2*a)\n",
        "    x2 = (-b - d**0.5) / (2*a)\n",
        "    print(f\"The solutions are x1 = {x1} and x2 = {x2}\")\n",
        "elif d == 0:\n",
        "    x = -b / (2*a)\n",
        "    print(f\"The solution is x = {x}\")\n",
        "else:\n",
        "    print(\"There are no real solutions\")"
      ],
      "metadata": {
        "colab": {
          "base_uri": "https://localhost:8080/"
        },
        "id": "3Mmy-rrZ38MD",
        "outputId": "56657aa8-5bd5-4b1e-84b4-191c1da9d9e2"
      },
      "execution_count": 2,
      "outputs": [
        {
          "output_type": "stream",
          "name": "stdout",
          "text": [
            "ใส่ค่า a: 3\n",
            "ใส่ค่า b: 2\n",
            "ใส่ค่า c: 3\n",
            "There are no real solutions\n"
          ]
        }
      ]
    }
  ]
}